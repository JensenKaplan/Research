{
 "cells": [
  {
   "cell_type": "markdown",
   "metadata": {},
   "source": [
    "# Here I fit the Curie-Weiss Law to the Magnetization vs Temeperature data as measured by the PPMS-VSM. \n",
    "### Note that reading in mass and type of file is hardcoded to follow my lab's convention for file naming.\n",
    "\n",
    "# We typically look at two types of runs, Field Cooling (FC) and Zero-Field Cooling (ZFC).\n",
    "## If the Weiss constant is negative we have an antiferromagnet, if the Weiss constant is positive we have a ferromagnet.\n",
    "## We get the effective magnetic moment and g-factor from Curie's constant"
   ]
  },
  {
   "cell_type": "code",
   "execution_count": 11,
   "metadata": {},
   "outputs": [],
   "source": [
    "import numpy as np\n",
    "import matplotlib.pyplot as plt\n",
    "import os\n",
    "from lmfit import Model\n",
    "import seaborn as sns\n",
    "import pandas as pd\n",
    "sns.set()\n",
    "\n",
    "import sys\n",
    "sys.path.append('..')\n",
    "from JensenTools import *"
   ]
  },
  {
   "cell_type": "markdown",
   "metadata": {},
   "source": [
    "## My functions"
   ]
  },
  {
   "cell_type": "code",
   "execution_count": 12,
   "metadata": {},
   "outputs": [],
   "source": [
    "# Takes a filename and data directory\n",
    "# Returns the field, magnetic moment, error, and name (temperature) of the run\n",
    "# field, moment, and error are returned as np arrays\n",
    "# name is returned as a string\n",
    "## Note that the name handling is hardcoded for how my lab conventionally names our files.\n",
    "def getData(magrun, dataDir):\n",
    "    mass = getMass(magrun)\n",
    "    measType = magrun.split('_')[5].split('.')[0]\n",
    "    df = pd.read_csv(dataDir+magrun)\n",
    "    df.dropna(inplace = True)\n",
    "    T = np.array(df['Temperature (K)'])\n",
    "    H = np.array(df['Magnetic Field (Oe)'])\n",
    "    E = np.array(df['M. Std. Err. (emu)'])\n",
    "    M = np.array(df['Moment (emu)'])\n",
    "    return M,H,T,E, mass, measType\n",
    "\n",
    "# Takes a filename\n",
    "# Returns mass in grams\n",
    "def getMass(filename):\n",
    "    mass = filename.split('_')[2]\n",
    "    mass = mass.replace('P','.')\n",
    "    mass = mass[:-2]\n",
    "    return float(mass)/1000\n",
    "\n",
    "# This is the inverse of the Curie-Weiss Law.\n",
    "# We will be creating an LMFIT model with this and fitting for:\n",
    "## Curie's constant 'c', Weiss' constant 'wc'\n",
    "def Curiei(t,c,wc):\n",
    "    return(t-wc)/c\n",
    "\n",
    "# Takes in Curie's constant and the system's total angular momentum J value\n",
    "# Returns effective moment (bohr magnetons) and effective g-factor\n",
    "def calcConstants(c,J):\n",
    "    ueff = np.sqrt(8*c)\n",
    "    gj = ueff/np.sqrt(J*(J+1))\n",
    "    return ueff, gj"
   ]
  },
  {
   "cell_type": "markdown",
   "metadata": {},
   "source": [
    "## Manually enter the sample name, molecular weight, and mass error (for our scales  .00005 g)\n",
    "https://www.lenntech.com/calculators/molecular/molecular-weight-calculator.htm\n"
   ]
  },
  {
   "cell_type": "code",
   "execution_count": 13,
   "metadata": {},
   "outputs": [],
   "source": [
    "comp = 'ErOI'\n",
    "molweight = 310.16\n",
    "massErr = .00005"
   ]
  },
  {
   "cell_type": "markdown",
   "metadata": {},
   "source": [
    "## Load the M vs T data file names into a list and create a dictionary 'data' which holds all of the measured data for that type of measurement\n",
    "### { 'FC/ZFC' : [Magnetization, Applied Field, Temperature, Magnetization error, samplemass] }"
   ]
  },
  {
   "cell_type": "code",
   "execution_count": 14,
   "metadata": {},
   "outputs": [],
   "source": [
    "dataDir = 'data/'\n",
    "runs = []\n",
    "for i in os.listdir(dataDir):\n",
    "    if i.endswith('.DAT'):\n",
    "        runs.append(i)       \n",
    "data = {}\n",
    "for i in runs:\n",
    "    M,H,T,MErr,samplemass,measType = getData(i,dataDir)\n",
    "    data[measType] = [M,H,T,MErr,samplemass]\n",
    "    \n",
    "\n",
    "M,H,T,MErr,samplemass = data['ZFC']"
   ]
  },
  {
   "cell_type": "markdown",
   "metadata": {},
   "source": [
    "## Calculate the Susceptibility and Susceptibility Error (normalized to emu Oe^-1 Mol^-1) with error propagation\n",
    "\n",
    "## Calculate the inverse of these two with error propagation\n"
   ]
  },
  {
   "cell_type": "code",
   "execution_count": 15,
   "metadata": {},
   "outputs": [],
   "source": [
    "# SuscNorm = []\n",
    "# SuscErrorNorm = []\n",
    "# for i in range(len(M)):\n",
    "#     SuscNorm.append(M[i]/H[i]*molweight/samplemass/1)\n",
    "#     SuscErrorNorm.append(Err[i]/H[i]*molweight/samplemass + M[i]/H[i]*molweight*massE/(samplemass**2))\n",
    "\n",
    "# Xi = 1/np.array(SuscNorm)\n",
    "# XiErr = np.array(SuscErrorNorm)/np.array(SuscNorm)**2\n",
    "\n",
    "X,XErr,Xi,XiErr = normSusc(M,H,MErr,molweight,samplemass,massErr)"
   ]
  },
  {
   "cell_type": "markdown",
   "metadata": {},
   "source": [
    "## Choose a range of temperatures to fit over 'tr', create the LMFIT model, make an initial guess for 'c' and 'wc', fit over desired range, create a full line using the fitted parameters\n"
   ]
  },
  {
   "cell_type": "code",
   "execution_count": 16,
   "metadata": {},
   "outputs": [],
   "source": [
    "tr = [300,400] #temprange = [low,high]\n",
    "\n",
    "cmodeli =  Model(Curiei, independent_vars = ['t'])\n",
    "params = cmodeli.make_params()\n",
    "params['wc'].set(value = 10)\n",
    "params['c'].set(value = 10)\n",
    "newT = []\n",
    "newXi = []\n",
    "newE = []\n",
    "for i in range(len(T)):\n",
    "    if (T[i] >= tr[0] and T[i]<= tr[1]):\n",
    "        newT.append(T[i])\n",
    "        newXi.append(Xi[i])\n",
    "        newE.append(XiErr[i])\n",
    "\n",
    "resulti = cmodeli.fit(newXi, params, t = newT, weights = newE) #fit\n",
    "\n",
    "fullLine = []\n",
    "for i in T:\n",
    "    fullLine.append(Curiei(i,resulti.params['c'].value,resulti.params['wc'].value))\n"
   ]
  },
  {
   "cell_type": "markdown",
   "metadata": {},
   "source": [
    "## Plot the inverse suscptibility and the fit as well as calculated constants"
   ]
  },
  {
   "cell_type": "code",
   "execution_count": 17,
   "metadata": {
    "scrolled": true
   },
   "outputs": [
    {
     "data": {
      "image/png": "[encoded data removed]",
      "text/plain": [
       "<Figure size 432x288 with 1 Axes>"
      ]
     },
     "metadata": {},
     "output_type": "display_data"
    },
    {
     "name": "stdout",
     "output_type": "stream",
     "text": [
      "The Weiss constant = -5.05 K\n",
      "The Curie constant = 160115.636\n",
      "Effective moment for ErOI is 1131.780 bohr magnetons, with J=0.5 -> gj factor = 1306.867\n"
     ]
    }
   ],
   "source": [
    "plt.errorbar(T,Xi,yerr = XiErr,label = 'Measured 1/X')\n",
    "plt.plot(T,fullLine,'orange', linestyle = '--', label = 'Fitted 1/X')\n",
    "plt.title(\"{} {} fitted over T = [{},{}]\".format(comp,measType,tr[0],tr[1]), fontsize = 20)\n",
    "plt.xlabel('Temperature (K)', fontsize = 13)\n",
    "plt.ylabel('1/X (spin/emu)', fontsize = 13)\n",
    "plt.legend()\n",
    "plt.show()\n",
    "\n",
    "\n",
    "print('The Weiss constant = {:.2f} K\\nThe Curie constant = {:.3f}'.format(resulti.params['wc'].value,resulti.params['c'].value))\n",
    "\n",
    "J = 1/2\n",
    "ueff, gj = calcConstants(resulti.params['c'].value,J)\n",
    "\n",
    "# print(ueff/(mass/molweight)*6.02*10**-23)\n",
    "print('Effective moment for {:} is {:.3f} bohr magnetons, with J={} -> gj factor = {:.3f}'.format(comp,ueff,J,gj))"
   ]
  }
 ],
 "metadata": {
  "kernelspec": {
   "display_name": "Python 3 (ipykernel)",
   "language": "python",
   "name": "python3"
  },
  "language_info": {
   "codemirror_mode": {
    "name": "ipython",
    "version": 3
   },
   "file_extension": ".py",
   "mimetype": "text/x-python",
   "name": "python",
   "nbconvert_exporter": "python",
   "pygments_lexer": "ipython3",
   "version": "3.9.7"
  }
 },
 "nbformat": 4,
 "nbformat_minor": 4
}
