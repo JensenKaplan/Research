{
 "cells": [
  {
   "cell_type": "markdown",
   "id": "20c2b835",
   "metadata": {},
   "source": [
    "# Crystal Electric Field (CF) Analysis of the Pr4+ ion\n",
    "### Here the goal is to use collected inelastic neutron scattering (INS) data to determine the ground state crystal field Hamiltonian. I use PyCrystalField in conjunction with LMFIT to find the values of the Stevens' Coefficients by fitting predicted energy levels to measured one. I then calculate the CF Hamiltonian and predict the compounds thermodynamic properties. Magnetization (M vs H) and Susceptibility (M vs T) data. \n",
    "\n",
    "### It's important to note that I don't actually use Pr4+ as my central ion, I use Ce3+. The correct orbital values for the Ln4+ oxidized states have not been calculated and tabulated. Since the operators depend on electronic orbital states, I can use an electrically equivalent ion, Ce3+, instead of the actual Pr4+ ion."
   ]
  },
  {
   "cell_type": "code",
   "execution_count": 1,
   "id": "513865b6",
   "metadata": {},
   "outputs": [
    {
     "name": "stdout",
     "output_type": "stream",
     "text": [
      " *******************************************************\n",
      " *                PyCrystalField 2.3.1                 *\n",
      " *  Please cite  J. Appl. Cryst. (2021). 54, 356-362   * \n",
      " *    <https://doi.org/10.1107/S160057672001554X>      *\n",
      " *******************************************************\n",
      "\n"
     ]
    }
   ],
   "source": [
    "import JensenTools as JT\n",
    "from lmfit import Model\n",
    "import PyCrystalField as cef\n",
    "import numpy as np\n",
    "import matplotlib.pyplot as plt\n",
    "import pandas as pd\n",
    "import seaborn\n",
    "seaborn.set()\n",
    "\n",
    "\n",
    "#Simple function for pritting my parameters after fitting so that I can copy paste the values from output for further iterations\n",
    "def paramPrint(fittedparams):\n",
    "\tprint()\n",
    "\tfor i in fittedparams:\n",
    "\t\t# print(i, ' = ', i.value)\n",
    "\t\tprint(i, ' = ',fittedparams[i].value )"
   ]
  },
  {
   "cell_type": "markdown",
   "id": "3d409488",
   "metadata": {},
   "source": [
    "##  My Energy Calculation Function To Be Used As An LMFIT Model"
   ]
  },
  {
   "cell_type": "code",
   "execution_count": 2,
   "id": "74644b31",
   "metadata": {},
   "outputs": [],
   "source": [
    "#energy level calculation used with LMFIT.\n",
    "#calculates 4 energies, the eigenvalues as given by PCF\n",
    "#Returns 3 energies (chosen because we only have 3 observed modes from INS) as well as a ratio of the 3rd energy to the 2nd energy.\n",
    "#this ratio comes from the fact that those two are visible in one Ei from INS. It was thought that it may improve fitting, but ultimately doesn't change result\n",
    "def energyCalcKFit(B40,B60,LS, numlevels, B44, B64, B20):\n",
    "\tnumlevels = numlevels\n",
    "\tStev = {} #Creating the Stevens' Coefficients dictionary and assigning values\n",
    "\tStev['B20'] = B20\n",
    "\tStev['B40'] = B40\n",
    "\tStev['B60'] = B60\n",
    "\tStev['B44'] = B44\n",
    "\tStev['B64'] = B64\n",
    "\n",
    "\tPr = cef.LS_CFLevels.Bdict(Bdict=Stev, L=3, S=0.5, SpinOrbitCoupling=LS) #Create CF_Levels obejct wtih the given coefficients.\n",
    "\tPr.diagonalize()\n",
    "\te = JT.kmeansSort(Pr.eigenvalues,numlevels)[:3] #Excluding the highest mode which we did not detect in our INS runs\n",
    "\te.append(e[2]/e[1]) #The aforementioned ratio\n",
    "    \n",
    "\treturn e"
   ]
  },
  {
   "cell_type": "markdown",
   "id": "350a74df",
   "metadata": {},
   "source": [
    "## L and S values for our ion, energy levels as measured by INS, and Stevens' Starting Point From Grid Search"
   ]
  },
  {
   "cell_type": "code",
   "execution_count": 3,
   "id": "8f74f5de",
   "metadata": {},
   "outputs": [],
   "source": [
    "# The L,S values are as follows for the Pr4+ ion\n",
    "L = 3\n",
    "S = 0.5\n",
    "Emeas = [168, 335,385,385/335] #The measured INS magnetic modes.\n",
    "\n",
    "# The starting values from the grid search\n",
    "LS = 100\n",
    "x =  0.03629536921151444\n",
    "bpf = -0.6570713391739674\n",
    "\n",
    "# Assigning the coefficients from grid search\n",
    "# Enforcing cubic constraints as a start\n",
    "# and including the B20 term which is needed for tetragonal symmetry\n",
    "B40 = bpf\n",
    "B60 = x*bpf\n",
    "B44 = 5*B40\n",
    "B64 = -21*B60\n",
    "B20 = 0"
   ]
  },
  {
   "cell_type": "markdown",
   "id": "912a42eb",
   "metadata": {},
   "source": [
    "## LMFIT Model Creation"
   ]
  },
  {
   "cell_type": "code",
   "execution_count": 4,
   "id": "543d2cac",
   "metadata": {},
   "outputs": [],
   "source": [
    "# Create the LMFIT model using my energy calc function\n",
    "# Let all values be dependent params except for number of levels\n",
    "# We can aleways lock or unlock the varying of each param (making them effectively independent/dependent)\n",
    "eModel = Model(energyCalcKFit, independent_vars = ['numlevels'])\n",
    "params = eModel.make_params()\n",
    "\n",
    "\n",
    "## Uncomment below to make sure the proper variables are set\n",
    "# print('parameter names: {}'.format(eModel.param_names))\n",
    "# print('independent variables: {}'.format(eModel.independent_vars))"
   ]
  },
  {
   "cell_type": "markdown",
   "id": "2210f9d9",
   "metadata": {},
   "source": [
    "## Best fit results.\n",
    "### Since there are more features than training points, I let a few coefficients vary freely, lock in those values, then let the others vary. The values below are after a few iterations,  produced some of the best results."
   ]
  },
  {
   "cell_type": "code",
   "execution_count": 5,
   "id": "7c2e14ae",
   "metadata": {},
   "outputs": [],
   "source": [
    "B40  =  -0.6568663783690575\n",
    "B60  =  -0.02328250024945387\n",
    "LS  =  100.00007580463522\n",
    "B44  =  -3.1415463304732714\n",
    "B64  =  0.504906552605772\n",
    "B20  =  0.4858075931009187"
   ]
  },
  {
   "cell_type": "markdown",
   "id": "2ed7cf37",
   "metadata": {},
   "source": [
    "## Set the LMFIT parameters and use it to fit to the previously given energies."
   ]
  },
  {
   "cell_type": "code",
   "execution_count": 6,
   "id": "fe1378be",
   "metadata": {},
   "outputs": [
    {
     "name": "stdout",
     "output_type": "stream",
     "text": [
      "\n",
      "\n",
      "Fitted parameters:\n",
      "Name     Value      Min      Max   Stderr     Vary     Expr Brute_Step\n",
      "B20    0.4858     -inf      inf    2.807     True     None     None\n",
      "B40   -0.6569     -inf      inf   0.1477     True     None     None\n",
      "B44    -3.142     -inf      inf   0.7763     True     None     None\n",
      "B60  -0.02328     -inf      inf 0.0005579     True     None     None\n",
      "B64    0.5049     -inf      inf        0    False     None     None\n",
      "LS        100     -inf      inf        0    False     None     None\n",
      "\n",
      "Reduced Chi Sqr = 1.0938623389075575\n"
     ]
    }
   ],
   "source": [
    "# Since we only have 4 training points, only 4 parameters can vary at once.\n",
    "params['B20'].set(value = B20, vary = True)\n",
    "params['B40'].set(value=B40, vary=True)\n",
    "params['B60'].set(value=B60, vary=True)\n",
    "params['B44'].set(value = B44, vary = True )\n",
    "params['B64'].set(value = B64, vary = False )\n",
    "params['LS'].set(value=LS, vary=False)\n",
    "\n",
    "#Fit model to data\n",
    "fitted = eModel.fit(Emeas,params, numlevels = 4)\n",
    "\n",
    "#Print the parameters and reduced chi sqr value\n",
    "print('\\n\\nFitted parameters:')\n",
    "fitted.params.pretty_print()\n",
    "print('\\nReduced Chi Sqr = {}'.format(fitted.result.redchi))\n",
    "\n",
    "#Uncomment to print out in easy copy paste format\n",
    "# paramPrint(fitted.params)"
   ]
  },
  {
   "cell_type": "markdown",
   "id": "9dd1b549",
   "metadata": {},
   "source": [
    "## Use our fitted B parameters to obtain the CF Hamiltonian"
   ]
  },
  {
   "cell_type": "code",
   "execution_count": 7,
   "id": "c8e911fe",
   "metadata": {},
   "outputs": [
    {
     "name": "stdout",
     "output_type": "stream",
     "text": [
      "\n",
      "\n",
      "Energy values as measured by INS (meV): [168, 335, 385]\n",
      "\n",
      " Eigenvalues \t Eigenvectors\n",
      "\t\t---------------------------------------------------------------------------------------------------------\n",
      "0.00000 \t|  [ 0.     0.     0.     0.     0.    -0.706  0.706  0.     0.     0.\n",
      "  0.     0.     0.    -0.055]  |\n",
      "0.00000 \t|  [ 0.055  0.     0.     0.     0.     0.     0.    -0.706  0.706  0.\n",
      "  0.     0.     0.     0.   ]  |\n",
      "14.68320 \t|  [ 0.     0.     0.    -0.3    0.277  0.     0.     0.     0.     0.\n",
      "  0.    -0.302  0.862  0.   ]  |\n",
      "14.68320 \t|  [ 0.    -0.862  0.302  0.     0.     0.     0.     0.     0.    -0.277\n",
      "  0.3    0.     0.     0.   ]  |\n",
      "167.99998 \t|  [ 0.     0.48   0.244  0.     0.     0.     0.     0.     0.    -0.654\n",
      "  0.531  0.     0.     0.   ]  |\n",
      "167.99998 \t|  [ 0.     0.     0.     0.531 -0.654  0.     0.     0.     0.     0.\n",
      "  0.     0.244  0.48   0.   ]  |\n",
      "335.00000 \t|  [ 0.     0.     0.     0.     0.    -0.581 -0.623  0.     0.     0.\n",
      "  0.     0.     0.    -0.525]  |\n",
      "335.00000 \t|  [0.525 0.    0.    0.    0.    0.    0.    0.623 0.581 0.    0.    0.\n",
      " 0.    0.   ]  |\n",
      "380.40550 \t|  [ 0.     0.     0.     0.     0.     0.404  0.338  0.     0.     0.\n",
      "  0.     0.     0.    -0.85 ]  |\n",
      "380.40550 \t|  [ 0.85   0.     0.     0.     0.     0.     0.    -0.338 -0.404  0.\n",
      "  0.     0.     0.     0.   ]  |\n",
      "386.04587 \t|  [0.    0.    0.    0.508 0.692 0.    0.    0.    0.    0.    0.    0.497\n",
      " 0.128 0.   ]  |\n",
      "386.04587 \t|  [0.    0.128 0.497 0.    0.    0.    0.    0.    0.    0.692 0.508 0.\n",
      " 0.    0.   ]  |\n",
      "1039.11107 \t|  [ 0.     0.     0.    -0.608 -0.13   0.     0.     0.     0.     0.\n",
      "  0.     0.776  0.102  0.   ]  |\n",
      "1039.11107 \t|  [ 0.     0.102  0.776  0.     0.     0.     0.     0.     0.    -0.13\n",
      " -0.608  0.     0.     0.   ]  |\n",
      "\t\t---------------------------------------------------------------------------------------------------------\n",
      "\n"
     ]
    }
   ],
   "source": [
    "#Create a dictionary of the fitted parameters (stevens coefficients)\n",
    "stev = {'B40': fitted.params['B40'].value, 'B60': fitted.params['B60'].value, 'B44' : fitted.params['B44'].value, 'B64' : fitted.params['B64'].value, 'B20' :fitted.params['B20'].value }\n",
    "\n",
    "#Create the CFLevels object and diagonalize it\n",
    "Pr = cef.LS_CFLevels.Bdict(Bdict = stev, L = L, S = S, SpinOrbitCoupling=fitted.params['LS'].value)\n",
    "Pr.diagonalize()\n",
    "\n",
    "#Print final matrix\n",
    "print('\\n\\nEnergy values as measured by INS (meV): {}'.format(Emeas[:-1]))\n",
    "Pr.printEigenvectors()\n",
    "\n",
    "\n",
    "# Pr.printLaTexEigenvectors()\n",
    "\n"
   ]
  },
  {
   "cell_type": "markdown",
   "id": "c98db409",
   "metadata": {},
   "source": [
    "## PCF G Tensor"
   ]
  },
  {
   "cell_type": "code",
   "execution_count": 8,
   "id": "8c894ed4",
   "metadata": {},
   "outputs": [
    {
     "name": "stdout",
     "output_type": "stream",
     "text": [
      "                    gx                  gy                  gz\n",
      "gx  2.456591+0.000000j  0.000000+0.000000j  0.000000+0.000000j\n",
      "gy  0.000000+0.000000j  2.456591+0.000000j  0.000000+0.000000j\n",
      "gz  0.000000+0.000000j  0.000000+0.000000j  0.971366+0.000000j\n"
     ]
    }
   ],
   "source": [
    "#Calculate and neatly print G-Tensor using Pandas\n",
    "gt = Pr.gtensor()\n",
    "rows = ['gx','gy','gz']\n",
    "df = pd.DataFrame(gt, columns = rows, index = rows)\n",
    "print(df)"
   ]
  },
  {
   "cell_type": "markdown",
   "id": "0f6d0902",
   "metadata": {},
   "source": [
    "## PCF Magnetization"
   ]
  },
  {
   "cell_type": "code",
   "execution_count": 9,
   "id": "d03893eb",
   "metadata": {},
   "outputs": [
    {
     "data": {
      "text/plain": [
       "Text(0.5, 1.0, 'PCF Magnetization at 20 K')"
      ]
     },
     "execution_count": 9,
     "metadata": {},
     "output_type": "execute_result"
    },
    {
     "data": {
      "image/png": "[encoded data removed]",
      "text/plain": [
       "<Figure size 432x288 with 1 Axes>"
      ]
     },
     "metadata": {},
     "output_type": "display_data"
    }
   ],
   "source": [
    "#Generate a magnetization curve for comparing results to experiment\n",
    "magCalc = []\n",
    "fieldT = np.linspace(0.01,14,1000)\n",
    "Temp = 20\n",
    "for i in fieldT:\n",
    "\tmagCalc.append(Pr.magnetization( Temp = Temp, Field = [0, 0, i])[2])\n",
    "\n",
    "\n",
    "plt.plot(fieldT,magCalc)\n",
    "plt.xlabel('Field (T)')\n",
    "plt.ylabel('Magnetization \\N{GREEK SMALL LETTER MU}B')\n",
    "plt.title('PCF Magnetization at {} K'.format(Temp))\n",
    "\n",
    "# plt.figure()\n",
    "# plt.plot(fieldT,-1.*np.array(magCalc))\n",
    "# plt.xlabel('Field (T)')\n",
    "# plt.ylabel('Magnetization \\N{GREEK SMALL LETTER MU}B')\n",
    "# plt.title('PCF Magnetization at {} K'.format(Temp))\n",
    "# plt.show()"
   ]
  },
  {
   "cell_type": "markdown",
   "id": "ded59efd",
   "metadata": {},
   "source": [
    "## PCF Susceptibility"
   ]
  },
  {
   "cell_type": "code",
   "execution_count": 10,
   "id": "22df27e9",
   "metadata": {},
   "outputs": [
    {
     "data": {
      "image/png": "[encoded data removed]",
      "text/plain": [
       "<Figure size 432x288 with 1 Axes>"
      ]
     },
     "metadata": {},
     "output_type": "display_data"
    },
    {
     "data": {
      "image/png": "[encoded data removed]",
      "text/plain": [
       "<Figure size 432x288 with 1 Axes>"
      ]
     },
     "metadata": {},
     "output_type": "display_data"
    }
   ],
   "source": [
    "suscCalc = []\n",
    "Temp = np.linspace(.1,400,1000)\n",
    "fieldT = 0.01\n",
    "deltaField = 0.0001\n",
    "suscCalc = Pr.susceptibility(Temps = Temp, Field = fieldT, deltaField = deltaField)\n",
    "# for i in Temp:\n",
    "\t# suscCalc.append(Pr.susceptibility(i,fieldT,deltaField))\n",
    "\n",
    "suscCalcI = []\n",
    "for i in suscCalc:\n",
    "\tsuscCalcI.append(1/i)\n",
    "plt.figure()\n",
    "plt.plot(Temp,suscCalc)\n",
    "plt.xlabel('Temperature (K)')\n",
    "plt.ylabel('Susceptibility (unsure unit)')\n",
    "plt.title('PCF Susceptibility with Scalar {} T field'.format(fieldT))\n",
    "\n",
    "plt.figure()\n",
    "plt.plot(Temp,suscCalcI)\n",
    "plt.xlabel('Temperature (K)')\n",
    "plt.ylabel('1/Susceptibility (unsure unit)')\n",
    "plt.title('PCF Inverse Susceptibility with Scalar {} T field'.format(fieldT))\n",
    "plt.show()"
   ]
  },
  {
   "cell_type": "markdown",
   "id": "ce0bd58d",
   "metadata": {},
   "source": [
    "## PCF Neutron Spectrum\n",
    "Define: an energy array that will be used to calculate lineshape; neutron incident energy, Ei (mev); temperature (K); instrument resolution (meV).\n",
    "\n",
    "Instrument resolution is typically ~3% - 5% of the Ei.\n",
    "\n",
    "Lineshape fitting would be ideal for determining the CF Hamiltonian; however, nuances arise. If not all magnetic modes are seen at a single Ei then certain scaling has to be taken into account to adjust the intensities of the signal. For this reason we decided to go down the route of fitting to energy levels."
   ]
  },
  {
   "cell_type": "code",
   "execution_count": 11,
   "id": "3af009fe",
   "metadata": {},
   "outputs": [
    {
     "data": {
      "image/png": "[encoded data removed]",
      "text/plain": [
       "<Figure size 432x288 with 1 Axes>"
      ]
     },
     "metadata": {},
     "output_type": "display_data"
    }
   ],
   "source": [
    "energy = np.linspace(.01,700,1000)\n",
    "Ei = 700\n",
    "Temp = 4.82\n",
    "res = 9\n",
    "\n",
    "CalculatedSpectrum = Pr.neutronSpectrum(energy, Temp=Temp, Ei=Ei, ResFunc = lambda x: res )\n",
    "# ResFunc = lambda x: 9 if (energy < 200) else 21\n",
    "plt.figure()\n",
    "plt.plot(energy,CalculatedSpectrum)\n",
    "plt.ylabel('Intensity (arb. units)')\n",
    "plt.xlabel('Energy (meV)')\n",
    "plt.title('PCF Spectrum: Ei = {}meV, Temp = {}K, Res = {}'.format(Ei,Temp,res))\n",
    "plt.show()"
   ]
  },
  {
   "cell_type": "markdown",
   "id": "c4f26568",
   "metadata": {},
   "source": [
    "## Convert our fitted Stevens' to Wybourne"
   ]
  },
  {
   "cell_type": "code",
   "execution_count": 12,
   "id": "39343d6f",
   "metadata": {},
   "outputs": [],
   "source": [
    "# wyb = cef.StevensToWybourne('Ce3+',stev, LS=True)\n",
    "# print(wyb)"
   ]
  }
 ],
 "metadata": {
  "kernelspec": {
   "display_name": "Python 3 (ipykernel)",
   "language": "python",
   "name": "python3"
  },
  "language_info": {
   "codemirror_mode": {
    "name": "ipython",
    "version": 3
   },
   "file_extension": ".py",
   "mimetype": "text/x-python",
   "name": "python",
   "nbconvert_exporter": "python",
   "pygments_lexer": "ipython3",
   "version": "3.9.7"
  }
 },
 "nbformat": 4,
 "nbformat_minor": 5
}
